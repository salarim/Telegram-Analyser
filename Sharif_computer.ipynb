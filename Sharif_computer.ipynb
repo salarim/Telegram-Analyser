{
 "cells": [
  {
   "cell_type": "code",
   "execution_count": 1,
   "metadata": {},
   "outputs": [],
   "source": [
    "import json\n",
    "import pandas as pd\n",
    "\n",
    "with open('data/sharif.json') as f:\n",
    "    data = json.load(f)"
   ]
  },
  {
   "cell_type": "code",
   "execution_count": 2,
   "metadata": {},
   "outputs": [],
   "source": [
    "k = set()\n",
    "for i in range(len(data['messages'])):\n",
    "    for key in data['messages'][i].keys():\n",
    "        k.add(key)\n",
    "k = list(k)"
   ]
  },
  {
   "cell_type": "code",
   "execution_count": 3,
   "metadata": {},
   "outputs": [],
   "source": [
    "df = pd.DataFrame.from_dict(data['messages'], orient='columns')[k]"
   ]
  },
  {
   "cell_type": "code",
   "execution_count": 4,
   "metadata": {},
   "outputs": [],
   "source": [
    "from datetime import datetime, timedelta\n",
    "\n",
    "df['date-time'] = df['date'].apply(lambda x: datetime.strptime(x, '%Y-%m-%dT%H:%M:%S'))"
   ]
  },
  {
   "cell_type": "markdown",
   "metadata": {},
   "source": [
    "### Find top discussions"
   ]
  },
  {
   "cell_type": "code",
   "execution_count": 16,
   "metadata": {},
   "outputs": [],
   "source": [
    "import math\n",
    "\n",
    "offset = timedelta(seconds=3600)\n",
    "starters = []\n",
    "starters_count = {}\n",
    "starters_time = {}\n",
    "\n",
    "for i in range(len(df)):\n",
    "    if len(starters) == 0:\n",
    "        starters.append(i)\n",
    "        starters_count[i] = 1\n",
    "        starters_time[i] = df.iloc[i]['date-time']\n",
    "    else:\n",
    "        last_starter = starters[len(starters)-1]\n",
    "        if not math.isnan(df.iloc[i]['reply_to_message_id']) or df.iloc[i]['date-time'] - starters_time[last_starter] <= offset:\n",
    "            starters_count[last_starter] += 1\n",
    "            starters_time[last_starter] = df.iloc[i]['date-time']\n",
    "        else:\n",
    "            starters.append(i)\n",
    "            starters_count[i] = 1\n",
    "            starters_time[i] = df.iloc[i]['date-time']"
   ]
  },
  {
   "cell_type": "code",
   "execution_count": 17,
   "metadata": {},
   "outputs": [],
   "source": [
    "sorted_starters_count = sorted(starters_count.items(), key=lambda item: item[1], reverse=True)"
   ]
  },
  {
   "cell_type": "code",
   "execution_count": 27,
   "metadata": {},
   "outputs": [
    {
     "data": {
      "text/html": [
       "<div>\n",
       "<style scoped>\n",
       "    .dataframe tbody tr th:only-of-type {\n",
       "        vertical-align: middle;\n",
       "    }\n",
       "\n",
       "    .dataframe tbody tr th {\n",
       "        vertical-align: top;\n",
       "    }\n",
       "\n",
       "    .dataframe thead th {\n",
       "        text-align: right;\n",
       "    }\n",
       "</style>\n",
       "<table border=\"1\" class=\"dataframe\">\n",
       "  <thead>\n",
       "    <tr style=\"text-align: right;\">\n",
       "      <th></th>\n",
       "      <th>text</th>\n",
       "      <th>from</th>\n",
       "      <th>date-time</th>\n",
       "    </tr>\n",
       "  </thead>\n",
       "  <tbody>\n",
       "    <tr>\n",
       "      <th>33391</th>\n",
       "      <td>پاشید آماده شید واسه رای دادن دیگه :))</td>\n",
       "      <td>None</td>\n",
       "      <td>2017-05-19 06:46:03</td>\n",
       "    </tr>\n",
       "    <tr>\n",
       "      <th>29486</th>\n",
       "      <td>يه چيزي ميفرستم حجت رو تمام ميكنم :))</td>\n",
       "      <td>Ahmadreza Usefkhani</td>\n",
       "      <td>2017-05-17 09:07:56</td>\n",
       "    </tr>\n",
       "    <tr>\n",
       "      <th>42112</th>\n",
       "      <td>کسی میدونه آز تو تابستون چند جلسه است؟</td>\n",
       "      <td>سید امیرحسین حمیدیان</td>\n",
       "      <td>2017-06-06 11:42:07</td>\n",
       "    </tr>\n",
       "    <tr>\n",
       "      <th>31434</th>\n",
       "      <td>تندگویان</td>\n",
       "      <td>Sina Faraji</td>\n",
       "      <td>2017-05-18 08:42:15</td>\n",
       "    </tr>\n",
       "    <tr>\n",
       "      <th>19756</th>\n",
       "      <td>[✅ ابراهیم رییسی به دلیل قرار گرفتن نامش در لی...</td>\n",
       "      <td>naVd m</td>\n",
       "      <td>2017-04-28 11:40:47</td>\n",
       "    </tr>\n",
       "    <tr>\n",
       "      <th>202</th>\n",
       "      <td>انقدر ادمای غیر ce تو لابی زیاده</td>\n",
       "      <td>Iman Hosseini</td>\n",
       "      <td>2017-01-30 10:05:41</td>\n",
       "    </tr>\n",
       "    <tr>\n",
       "      <th>1540</th>\n",
       "      <td>[{'type': 'hashtag', 'text': '#اقدام_دانشگاه_ص...</td>\n",
       "      <td>Mojtaba Fayazbakhsh</td>\n",
       "      <td>2017-01-31 14:54:00</td>\n",
       "    </tr>\n",
       "    <tr>\n",
       "      <th>25207</th>\n",
       "      <td>[«میرسلیم در برنامه رادیو معارف: همه‌ رشته‌های...</td>\n",
       "      <td>Mohammad Sadegh</td>\n",
       "      <td>2017-05-12 08:56:20</td>\n",
       "    </tr>\n",
       "    <tr>\n",
       "      <th>2667</th>\n",
       "      <td>[مصاحبه تولسی گبرد عضو دموکرات , {'type': 'has...</td>\n",
       "      <td>Mojtaba Fayazbakhsh</td>\n",
       "      <td>2017-02-01 08:24:02</td>\n",
       "    </tr>\n",
       "    <tr>\n",
       "      <th>28463</th>\n",
       "      <td>[{'type': 'link', 'text': 'https://instagram.c...</td>\n",
       "      <td>Ahmadreza Usefkhani</td>\n",
       "      <td>2017-05-16 09:08:15</td>\n",
       "    </tr>\n",
       "    <tr>\n",
       "      <th>79181</th>\n",
       "      <td>In threade snowden jalebe</td>\n",
       "      <td>Sina Faraji</td>\n",
       "      <td>2017-12-31 12:52:57</td>\n",
       "    </tr>\n",
       "    <tr>\n",
       "      <th>36380</th>\n",
       "      <td>نه به پوپولیسم</td>\n",
       "      <td>Soroosh Zamani</td>\n",
       "      <td>2017-05-21 19:28:22</td>\n",
       "    </tr>\n",
       "    <tr>\n",
       "      <th>38360</th>\n",
       "      <td>بچه‌ها یه سوال دیگه کسی لابی یا اطراف اون نیست...</td>\n",
       "      <td>Erfan Loghmani</td>\n",
       "      <td>2017-05-24 20:23:48</td>\n",
       "    </tr>\n",
       "    <tr>\n",
       "      <th>78193</th>\n",
       "      <td>[{'type': 'link', 'text': 'https://goo.gl/form...</td>\n",
       "      <td>Niloofar Zarif</td>\n",
       "      <td>2017-12-30 17:19:47</td>\n",
       "    </tr>\n",
       "    <tr>\n",
       "      <th>27564</th>\n",
       "      <td>[افزایش کتمان رای , {'type': 'link', 'text': '...</td>\n",
       "      <td>Mohsen Ferdosi</td>\n",
       "      <td>2017-05-15 09:11:06</td>\n",
       "    </tr>\n",
       "    <tr>\n",
       "      <th>48549</th>\n",
       "      <td>[آیت الله خامنه ای در خطبه های نمازعید فطر:\\n\\...</td>\n",
       "      <td>Ahmad</td>\n",
       "      <td>2017-06-26 09:14:49</td>\n",
       "    </tr>\n",
       "    <tr>\n",
       "      <th>23599</th>\n",
       "      <td>[💢مستند محمدباقر , {'type': 'hashtag', 'text':...</td>\n",
       "      <td>Atia Hamidizadeh</td>\n",
       "      <td>2017-05-08 20:00:47</td>\n",
       "    </tr>\n",
       "    <tr>\n",
       "      <th>26767</th>\n",
       "      <td>[{'type': 'link', 'text': 'vhdo.nl/2qeVtP4'}, ...</td>\n",
       "      <td>Mohsen rezaei</td>\n",
       "      <td>2017-05-14 10:54:02</td>\n",
       "    </tr>\n",
       "    <tr>\n",
       "      <th>21154</th>\n",
       "      <td>آقا این بازیه خیلی خوبه!! وقت کردین حتما یه تس...</td>\n",
       "      <td>Aydin</td>\n",
       "      <td>2017-04-29 18:18:50</td>\n",
       "    </tr>\n",
       "    <tr>\n",
       "      <th>84863</th>\n",
       "      <td>بچه‌ها کسی قیاس منصفانه و خوبی بین دکتر میریان...</td>\n",
       "      <td>Mohammad Javad Aboutalebi</td>\n",
       "      <td>2018-01-22 17:06:44</td>\n",
       "    </tr>\n",
       "  </tbody>\n",
       "</table>\n",
       "</div>"
      ],
      "text/plain": [
       "                                                    text  \\\n",
       "33391             پاشید آماده شید واسه رای دادن دیگه :))   \n",
       "29486              يه چيزي ميفرستم حجت رو تمام ميكنم :))   \n",
       "42112             کسی میدونه آز تو تابستون چند جلسه است؟   \n",
       "31434                                           تندگویان   \n",
       "19756  [✅ ابراهیم رییسی به دلیل قرار گرفتن نامش در لی...   \n",
       "202                     انقدر ادمای غیر ce تو لابی زیاده   \n",
       "1540   [{'type': 'hashtag', 'text': '#اقدام_دانشگاه_ص...   \n",
       "25207  [«میرسلیم در برنامه رادیو معارف: همه‌ رشته‌های...   \n",
       "2667   [مصاحبه تولسی گبرد عضو دموکرات , {'type': 'has...   \n",
       "28463  [{'type': 'link', 'text': 'https://instagram.c...   \n",
       "79181                          In threade snowden jalebe   \n",
       "36380                                     نه به پوپولیسم   \n",
       "38360  بچه‌ها یه سوال دیگه کسی لابی یا اطراف اون نیست...   \n",
       "78193  [{'type': 'link', 'text': 'https://goo.gl/form...   \n",
       "27564  [افزایش کتمان رای , {'type': 'link', 'text': '...   \n",
       "48549  [آیت الله خامنه ای در خطبه های نمازعید فطر:\\n\\...   \n",
       "23599  [💢مستند محمدباقر , {'type': 'hashtag', 'text':...   \n",
       "26767  [{'type': 'link', 'text': 'vhdo.nl/2qeVtP4'}, ...   \n",
       "21154  آقا این بازیه خیلی خوبه!! وقت کردین حتما یه تس...   \n",
       "84863  بچه‌ها کسی قیاس منصفانه و خوبی بین دکتر میریان...   \n",
       "\n",
       "                            from           date-time  \n",
       "33391                       None 2017-05-19 06:46:03  \n",
       "29486        Ahmadreza Usefkhani 2017-05-17 09:07:56  \n",
       "42112       سید امیرحسین حمیدیان 2017-06-06 11:42:07  \n",
       "31434                Sina Faraji 2017-05-18 08:42:15  \n",
       "19756                     naVd m 2017-04-28 11:40:47  \n",
       "202                Iman Hosseini 2017-01-30 10:05:41  \n",
       "1540         Mojtaba Fayazbakhsh 2017-01-31 14:54:00  \n",
       "25207            Mohammad Sadegh 2017-05-12 08:56:20  \n",
       "2667         Mojtaba Fayazbakhsh 2017-02-01 08:24:02  \n",
       "28463        Ahmadreza Usefkhani 2017-05-16 09:08:15  \n",
       "79181                Sina Faraji 2017-12-31 12:52:57  \n",
       "36380             Soroosh Zamani 2017-05-21 19:28:22  \n",
       "38360             Erfan Loghmani 2017-05-24 20:23:48  \n",
       "78193             Niloofar Zarif 2017-12-30 17:19:47  \n",
       "27564             Mohsen Ferdosi 2017-05-15 09:11:06  \n",
       "48549                      Ahmad 2017-06-26 09:14:49  \n",
       "23599           Atia Hamidizadeh 2017-05-08 20:00:47  \n",
       "26767              Mohsen rezaei 2017-05-14 10:54:02  \n",
       "21154                      Aydin 2017-04-29 18:18:50  \n",
       "84863  Mohammad Javad Aboutalebi 2018-01-22 17:06:44  "
      ]
     },
     "execution_count": 27,
     "metadata": {},
     "output_type": "execute_result"
    }
   ],
   "source": [
    "top = [x[0] for x in sorted_starters_count[:20]]\n",
    "df.iloc[top][['text', 'from', 'date-time']]"
   ]
  },
  {
   "cell_type": "code",
   "execution_count": 28,
   "metadata": {},
   "outputs": [
    {
     "name": "stdout",
     "output_type": "stream",
     "text": [
      "0 days 03:25:21\n",
      "0 days 01:26:57\n",
      "0 days 04:15:36\n",
      "0 days 03:32:47\n",
      "0 days 01:22:45\n",
      "0 days 01:35:13\n",
      "0 days 01:35:28\n",
      "0 days 06:43:40\n",
      "0 days 05:34:20\n",
      "0 days 03:00:28\n",
      "0 days 01:25:00\n",
      "0 days 02:39:12\n",
      "0 days 01:26:26\n",
      "0 days 01:46:39\n",
      "0 days 04:06:30\n",
      "0 days 02:35:36\n",
      "0 days 01:17:22\n",
      "0 days 01:31:57\n",
      "0 days 01:27:33\n",
      "0 days 01:34:06\n"
     ]
    }
   ],
   "source": [
    "for x in top:\n",
    "    print(df.iloc[x]['date-time'] - df.iloc[x-1]['date-time'])"
   ]
  },
  {
   "cell_type": "markdown",
   "metadata": {},
   "source": [
    "### Find close people"
   ]
  },
  {
   "cell_type": "code",
   "execution_count": 17,
   "metadata": {},
   "outputs": [],
   "source": [
    "def update_2dict(d, k1, k2, v):\n",
    "    if k1 not in d:\n",
    "        d[k1] = {}\n",
    "    if k2 not in d[k1]:\n",
    "        d[k1][k2] = v\n",
    "    else:\n",
    "        d[k1][k2] += v"
   ]
  },
  {
   "cell_type": "code",
   "execution_count": 30,
   "metadata": {},
   "outputs": [],
   "source": [
    "reply_ids = []\n",
    "date_times = []\n",
    "froms = []\n",
    "ids = []\n",
    "\n",
    "for i in range(len(df)):\n",
    "    x = df.iloc[i]\n",
    "    ids.append(x['id'])\n",
    "    reply_ids.append(x['reply_to_message_id'])\n",
    "    date_times.append(x['date-time'])\n",
    "    froms.append(x['from'])"
   ]
  },
  {
   "cell_type": "code",
   "execution_count": 33,
   "metadata": {},
   "outputs": [],
   "source": [
    "FORWARD, TIME, MESSAGE = 100.0, 10.0, 20.0\n",
    "score = {}\n",
    "\n",
    "for i in range(len(df)):\n",
    "    for j in range(i+1, min(i+100, len(df))):\n",
    "        s = FORWARD if reply_ids[j] == ids[i] else 0.0\n",
    "        s += TIME / ((date_times[j] - date_times[i]).total_seconds() + 1.0)\n",
    "        s += MESSAGE / (j-i)\n",
    "        update_2dict(score, froms[i], froms[j], s)"
   ]
  },
  {
   "cell_type": "code",
   "execution_count": 57,
   "metadata": {},
   "outputs": [],
   "source": [
    "import math\n",
    "\n",
    "flat_scores = {}\n",
    "messages_count = df.groupby(['from']).count()['id']\n",
    "\n",
    "for k1, v1 in score.items():\n",
    "    for k2, v2 in v1.items():\n",
    "        if k1 != k2 and str(k1) != 'nan' and str(k1) != 'None' and str(k2) != 'nan' and str(k2) != 'None':\n",
    "            flat_scores[str(k1) + '-' + str(k2)] = v2 / math.sqrt(messages_count[k1] * messages_count[k2])"
   ]
  },
  {
   "cell_type": "code",
   "execution_count": 58,
   "metadata": {},
   "outputs": [],
   "source": [
    "import operator\n",
    "sorted_scores = sorted(flat_scores.items(), key=operator.itemgetter(1), reverse=True)"
   ]
  },
  {
   "cell_type": "code",
   "execution_count": null,
   "metadata": {},
   "outputs": [],
   "source": [
    "sorted_scores[:50]"
   ]
  },
  {
   "cell_type": "code",
   "execution_count": null,
   "metadata": {},
   "outputs": [],
   "source": []
  }
 ],
 "metadata": {
  "kernelspec": {
   "display_name": "Python 3",
   "language": "python",
   "name": "python3"
  },
  "language_info": {
   "codemirror_mode": {
    "name": "ipython",
    "version": 3
   },
   "file_extension": ".py",
   "mimetype": "text/x-python",
   "name": "python",
   "nbconvert_exporter": "python",
   "pygments_lexer": "ipython3",
   "version": "3.6.4"
  }
 },
 "nbformat": 4,
 "nbformat_minor": 2
}
