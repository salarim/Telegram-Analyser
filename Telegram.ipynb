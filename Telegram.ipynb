{
 "cells": [
  {
   "cell_type": "code",
   "execution_count": 1,
   "metadata": {},
   "outputs": [],
   "source": [
    "import json\n",
    "import pandas as pd\n",
    "\n",
    "with open('telegram_export.json') as f:\n",
    "    data = json.load(f)"
   ]
  },
  {
   "cell_type": "code",
   "execution_count": 2,
   "metadata": {},
   "outputs": [],
   "source": [
    "df = pd.DataFrame.from_dict(data['chats']['list'][0]['messages'], orient='columns')[['date', 'text', 'type']]\n",
    "df = df[df['type']=='message']\n",
    "df['day'] = df['date'].apply(lambda x: x[:10])"
   ]
  },
  {
   "cell_type": "code",
   "execution_count": 3,
   "metadata": {},
   "outputs": [],
   "source": [
    "df2 = pd.DataFrame({'count' : df.groupby('day').size()}).reset_index()"
   ]
  },
  {
   "cell_type": "code",
   "execution_count": 4,
   "metadata": {},
   "outputs": [],
   "source": [
    "df['minute'] = df['date'].apply(lambda x: x[:-3])\n",
    "tmp = pd.DataFrame({'count' : df.groupby('minute').size()}).reset_index()\n",
    "tmp['day'] = tmp['minute'].apply(lambda x: x[:10])\n",
    "df3 = pd.DataFrame({'count' : tmp.groupby('day').size()}).reset_index()"
   ]
  },
  {
   "cell_type": "code",
   "execution_count": 5,
   "metadata": {},
   "outputs": [],
   "source": [
    "df4 = df3[df3['day'] > '2018-01-01']"
   ]
  },
  {
   "cell_type": "code",
   "execution_count": 6,
   "metadata": {},
   "outputs": [],
   "source": [
    "import matplotlib\n",
    "from matplotlib import pyplot\n",
    "from matplotlib import dates\n",
    "import datetime\n",
    "import numpy\n",
    "import time\n",
    "\n",
    "def plot(df):\n",
    "    converted_dates = list(map(datetime.datetime.strptime, df['day'], len(df['day'])*['%Y-%m-%d']))\n",
    "    x_axis = converted_dates\n",
    "    formatter = dates.DateFormatter('%Y-%m-%d')\n",
    "    y_axis = df['count'].as_matrix()\n",
    "\n",
    "    tList = []\n",
    "    t = 0\n",
    "    while t < len(x_axis):\n",
    "        ti = int(time.mktime(x_axis[t].timetuple()))\n",
    "        tList.append(ti)\n",
    "        t = t + 1\n",
    "\n",
    "    z = numpy.polyfit(tList, y_axis, 1)\n",
    "    p = numpy.poly1d(z)\n",
    "\n",
    "    pyplot.plot(x_axis, y_axis, '-')\n",
    "    pyplot.plot(x_axis, p(tList))\n",
    "    ax = pyplot.gcf().axes[0] \n",
    "    ax.xaxis.set_major_formatter(formatter)\n",
    "    pyplot.gcf().autofmt_xdate(rotation=25)\n",
    "    pyplot.show()\n",
    "    # pyplot.savefig('img2.png')"
   ]
  },
  {
   "cell_type": "code",
   "execution_count": null,
   "metadata": {},
   "outputs": [],
   "source": [
    "plot(df2)"
   ]
  },
  {
   "cell_type": "code",
   "execution_count": null,
   "metadata": {},
   "outputs": [],
   "source": []
  }
 ],
 "metadata": {
  "kernelspec": {
   "display_name": "Python 3",
   "language": "python",
   "name": "python3"
  },
  "language_info": {
   "codemirror_mode": {
    "name": "ipython",
    "version": 3
   },
   "file_extension": ".py",
   "mimetype": "text/x-python",
   "name": "python",
   "nbconvert_exporter": "python",
   "pygments_lexer": "ipython3",
   "version": "3.6.4"
  }
 },
 "nbformat": 4,
 "nbformat_minor": 2
}
